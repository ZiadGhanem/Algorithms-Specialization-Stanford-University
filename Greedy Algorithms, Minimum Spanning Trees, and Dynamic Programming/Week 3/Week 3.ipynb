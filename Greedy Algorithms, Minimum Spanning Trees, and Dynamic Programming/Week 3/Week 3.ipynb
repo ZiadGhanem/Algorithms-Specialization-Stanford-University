{
  "nbformat": 4,
  "nbformat_minor": 0,
  "metadata": {
    "colab": {
      "name": "Algorithms Course 3 Week 3.ipynb",
      "provenance": [],
      "collapsed_sections": []
    },
    "kernelspec": {
      "name": "python3",
      "display_name": "Python 3"
    }
  },
  "cells": [
    {
      "cell_type": "code",
      "metadata": {
        "id": "wBVzpT7uBHFp",
        "colab_type": "code",
        "outputId": "c7435e66-bc0e-457a-a049-6db0806c5303",
        "colab": {
          "base_uri": "https://localhost:8080/",
          "height": 69
        }
      },
      "source": [
        "%mkdir Algorithms\n",
        "%cd Algorithms\n",
        "%mkdir \"Course 3\"\n",
        "%cd \"Course 3\"\n",
        "%mkdir \"Week 3\"\n",
        "%cd \"Week 3\""
      ],
      "execution_count": 0,
      "outputs": [
        {
          "output_type": "stream",
          "text": [
            "/content/Algorithms\n",
            "/content/Algorithms/Course 3\n",
            "/content/Algorithms/Course 3/Week 3\n"
          ],
          "name": "stdout"
        }
      ]
    },
    {
      "cell_type": "code",
      "metadata": {
        "id": "Qei2TwNLIdjc",
        "colab_type": "code",
        "colab": {}
      },
      "source": [
        "from collections import namedtuple\n",
        "import heapq"
      ],
      "execution_count": 0,
      "outputs": []
    },
    {
      "cell_type": "code",
      "metadata": {
        "id": "TYYSTUy_Ig-u",
        "colab_type": "code",
        "colab": {}
      },
      "source": [
        "Symbol = namedtuple('Symbol', ('Weight', 'Index'))"
      ],
      "execution_count": 0,
      "outputs": []
    },
    {
      "cell_type": "code",
      "metadata": {
        "id": "OjbrZqVMBXIG",
        "colab_type": "code",
        "colab": {}
      },
      "source": [
        "# Files path\n",
        "HUFFMAN_PATH = \"/content/Algorithms/Course 3/Week 3/huffman.txt\"\n",
        "MWIS_PATH = \"/content/Algorithms/Course 3/Week 3/mwis.txt\""
      ],
      "execution_count": 0,
      "outputs": []
    },
    {
      "cell_type": "code",
      "metadata": {
        "id": "wyPMl_4XB2Xy",
        "colab_type": "code",
        "colab": {}
      },
      "source": [
        "def read_symbols_tree(path):\n",
        "  tree = []\n",
        "  with open(HUFFMAN_PATH) as huffman_file: \n",
        "    symbols = huffman_file.readlines()\n",
        "    for index, weight in enumerate(symbols[1:]):\n",
        "      tree.append(Symbol(int(weight.split()[0]), str(index)))\n",
        "    heapq.heapify(tree)\n",
        "    return tree"
      ],
      "execution_count": 0,
      "outputs": []
    },
    {
      "cell_type": "code",
      "metadata": {
        "id": "LueGxLs7CnSz",
        "colab_type": "code",
        "outputId": "c781096c-f265-40d3-c61f-9adc47b2fed7",
        "colab": {
          "base_uri": "https://localhost:8080/",
          "height": 72
        }
      },
      "source": [
        "tree = read_symbols_tree(HUFFMAN_PATH)\n",
        "print(tree)\n",
        "print(len(tree))"
      ],
      "execution_count": 0,
      "outputs": [
        {
          "output_type": "stream",
          "text": [
            "[Symbol(Weight=1873, Index='471'), Symbol(Weight=37164, Index='752'), Symbol(Weight=12710, Index='798'), Symbol(Weight=57802, Index='554'), Symbol(Weight=64537, Index='356'), Symbol(Weight=61282, Index='867'), Symbol(Weight=40882, Index='448'), Symbol(Weight=107416, Index='538'), Symbol(Weight=83429, Index='598'), Symbol(Weight=149557, Index='174'), Symbol(Weight=90939, Index='382'), Symbol(Weight=133947, Index='804'), Symbol(Weight=97421, Index='210'), Symbol(Weight=70116, Index='957'), Symbol(Weight=149350, Index='971'), Symbol(Weight=279273, Index='66'), Symbol(Weight=249066, Index='276'), Symbol(Weight=341040, Index='596'), Symbol(Weight=169883, Index='621'), Symbol(Weight=545323, Index='666'), Symbol(Weight=304460, Index='700'), Symbol(Weight=394075, Index='712'), Symbol(Weight=114191, Index='371'), Symbol(Weight=535912, Index='383'), Symbol(Weight=247376, Index='817'), Symbol(Weight=192218, Index='848'), Symbol(Weight=141897, Index='878'), Symbol(Weight=192227, Index='925'), Symbol(Weight=160666, Index='941'), Symbol(Weight=191692, Index='987'), Symbol(Weight=413248, Index='248'), Symbol(Weight=867218, Index='128'), Symbol(Weight=760824, Index='263'), Symbol(Weight=616277, Index='556'), Symbol(Weight=849244, Index='573'), Symbol(Weight=652742, Index='588'), Symbol(Weight=555199, Index='602'), Symbol(Weight=380823, Index='304'), Symbol(Weight=192204, Index='311'), Symbol(Weight=758393, Index='644'), Symbol(Weight=829684, Index='670'), Symbol(Weight=535893, Index='674'), Symbol(Weight=782103, Index='350'), Symbol(Weight=616791, Index='87'), Symbol(Weight=569367, Index='725'), Symbol(Weight=520157, Index='367'), Symbol(Weight=159892, Index='756'), Symbol(Weight=555207, Index='192'), Symbol(Weight=1116902, Index='797'), Symbol(Weight=356432, Index='810'), Symbol(Weight=771293, Index='819'), Symbol(Weight=547194, Index='25'), Symbol(Weight=789849, Index='106'), Symbol(Weight=962541, Index='431'), Symbol(Weight=440233, Index='880'), Symbol(Weight=456813, Index='452'), Symbol(Weight=201512, Index='926'), Symbol(Weight=166321, Index='470'), Symbol(Weight=218073, Index='946'), Symbol(Weight=258498, Index='961'), Symbol(Weight=379629, Index='490'), Symbol(Weight=780907, Index='996'), Symbol(Weight=899516, Index='503'), Symbol(Weight=1359669, Index='513'), Symbol(Weight=1452406, Index='261'), Symbol(Weight=1650139, Index='266'), Symbol(Weight=3373557, Index='267'), Symbol(Weight=1107383, Index='274'), Symbol(Weight=838231, Index='68'), Symbol(Weight=1360510, Index='560'), Symbol(Weight=1082955, Index='34'), Symbol(Weight=1119946, Index='575'), Symbol(Weight=1265714, Index='146'), Symbol(Weight=651730, Index='595'), Symbol(Weight=1433786, Index='600'), Symbol(Weight=1573303, Index='306'), Symbol(Weight=506213, Index='619'), Symbol(Weight=209806, Index='313'), Symbol(Weight=505108, Index='635'), Symbol(Weight=911693, Index='79'), Symbol(Weight=1126316, Index='323'), Symbol(Weight=1819184, Index='328'), Symbol(Weight=976810, Index='331'), Symbol(Weight=1456967, Index='671'), Symbol(Weight=1155576, Index='680'), Symbol(Weight=794517, Index='688'), Symbol(Weight=4458682, Index='347'), Symbol(Weight=810943, Index='704'), Symbol(Weight=705755, Index='716'), Symbol(Weight=2598270, Index='361'), Symbol(Weight=683042, Index='731'), Symbol(Weight=1151019, Index='91'), Symbol(Weight=1290663, Index='185'), Symbol(Weight=569344, Index='188'), Symbol(Weight=1262500, Index='380'), Symbol(Weight=2388923, Index='770'), Symbol(Weight=795351, Index='96'), Symbol(Weight=1851594, Index='786'), Symbol(Weight=1531412, Index='795'), Symbol(Weight=405875, Index='805'), Symbol(Weight=2278695, Index='405'), Symbol(Weight=1017408, Index='820'), Symbol(Weight=783373, Index='206'), Symbol(Weight=2951112, Index='417'), Symbol(Weight=934209, Index='846'), Symbol(Weight=1528193, Index='853'), Symbol(Weight=931792, Index='861'), Symbol(Weight=1336459, Index='433'), Symbol(Weight=2215355, Index='436'), Symbol(Weight=615656, Index='109'), Symbol(Weight=1064131, Index='893'), Symbol(Weight=1659776, Index='899'), Symbol(Weight=837907, Index='27'), Symbol(Weight=715503, Index='912'), Symbol(Weight=1289868, Index='923'), Symbol(Weight=515470, Index='930'), Symbol(Weight=368071, Index='936'), Symbol(Weight=680587, Index='473'), Symbol(Weight=341970, Index='28'), Symbol(Weight=624955, Index='119'), Symbol(Weight=270695, Index='485'), Symbol(Weight=497856, Index='975'), Symbol(Weight=466715, Index='245'), Symbol(Weight=2070509, Index='123'), Symbol(Weight=2207795, Index='500'), Symbol(Weight=1395640, Index='252'), Symbol(Weight=6757438, Index='253'), Symbol(Weight=1833054, Index='512'), Symbol(Weight=4874388, Index='518'), Symbol(Weight=4182171, Index='129'), Symbol(Weight=2417608, Index='525'), Symbol(Weight=1991528, Index='529'), Symbol(Weight=2041172, Index='533'), Symbol(Weight=4477188, Index='133'), Symbol(Weight=4525386, Index='134'), Symbol(Weight=2335033, Index='135'), Symbol(Weight=2308480, Index='273'), Symbol(Weight=1153072, Index='137'), Symbol(Weight=1238992, Index='138'), Symbol(Weight=3101183, Index='559'), Symbol(Weight=2990314, Index='564'), Symbol(Weight=1238317, Index='141'), Symbol(Weight=1161427, Index='574'), Symbol(Weight=3432892, Index='71'), Symbol(Weight=3139810, Index='289'), Symbol(Weight=3452778, Index='584'), Symbol(Weight=2057013, Index='589'), Symbol(Weight=736307, Index='296'), Symbol(Weight=3079930, Index='73'), Symbol(Weight=2642101, Index='599'), Symbol(Weight=1774206, Index='150'), Symbol(Weight=2097012, Index='607'), Symbol(Weight=1948993, Index='18'), Symbol(Weight=2089654, Index='153'), Symbol(Weight=1687743, Index='620'), Symbol(Weight=1999595, Index='155'), Symbol(Weight=1049472, Index='630'), Symbol(Weight=1153739, Index='316'), Symbol(Weight=1258299, Index='318'), Symbol(Weight=1465096, Index='642'), Symbol(Weight=1121696, Index='645'), Symbol(Weight=1779925, Index='80'), Symbol(Weight=1412270, Index='162'), Symbol(Weight=2603228, Index='656'), Symbol(Weight=3155741, Index='164'), Symbol(Weight=3636477, Index='82'), Symbol(Weight=2847654, Index='667'), Symbol(Weight=3428099, Index='336'), Symbol(Weight=3020761, Index='675'), Symbol(Weight=1274164, Index='339'), Symbol(Weight=3656422, Index='341'), Symbol(Weight=1256676, Index='687'), Symbol(Weight=2818538, Index='346'), Symbol(Weight=5483937, Index='173'), Symbol(Weight=6426934, Index='349'), Symbol(Weight=1857358, Index='352'), Symbol(Weight=996638, Index='710'), Symbol(Weight=1990671, Index='711'), Symbol(Weight=3512965, Index='21'), Symbol(Weight=3384562, Index='722'), Symbol(Weight=2935267, Index='89'), Symbol(Weight=2612451, Index='730'), Symbol(Weight=1246625, Index='733'), Symbol(Weight=1206180, Index='368'), Symbol(Weight=1280821, Index='742'), Symbol(Weight=3101492, Index='745'), Symbol(Weight=1783438, Index='747'), Symbol(Weight=841001, Index='375'), Symbol(Weight=2492922, Index='46'), Symbol(Weight=5404616, Index='762'), Symbol(Weight=1415528, Index='190'), Symbol(Weight=4647771, Index='769'), Symbol(Weight=2654229, Index='774'), Symbol(Weight=1062936, Index='776'), Symbol(Weight=1385141, Index='782'), Symbol(Weight=2525180, Index='783'), Symbol(Weight=3087832, Index='789'), Symbol(Weight=4306883, Index='793'), Symbol(Weight=2209419, Index='397'), Symbol(Weight=715468, Index='801'), Symbol(Weight=745731, Index='49'), Symbol(Weight=4206464, Index='807'), Symbol(Weight=2917342, Index='24'), Symbol(Weight=1774454, Index='815'), Symbol(Weight=2595511, Index='5'), Symbol(Weight=1846916, Index='412'), Symbol(Weight=970195, Index='414'), Symbol(Weight=3741722, Index='207'), Symbol(Weight=4633814, Index='103'), Symbol(Weight=1358976, Index='839'), Symbol(Weight=4119022, Index='51'), Symbol(Weight=2180122, Index='847'), Symbol(Weight=3030695, Index='851'), Symbol(Weight=1163535, Index='213'), Symbol(Weight=1219060, Index='859'), Symbol(Weight=2562468, Index='432'), Symbol(Weight=1747121, Index='869'), Symbol(Weight=4214951, Index='871'), Symbol(Weight=2440768, Index='108'), Symbol(Weight=1339459, Index='879'), Symbol(Weight=1109382, Index='884'), Symbol(Weight=3917412, Index='443'), Symbol(Weight=1386887, Index='892'), Symbol(Weight=2564491, Index='895'), Symbol(Weight=2419919, Index='901'), Symbol(Weight=932248, Index='451'), Symbol(Weight=1350643, Index='908'), Symbol(Weight=2281631, Index='456'), Symbol(Weight=1081623, Index='458'), Symbol(Weight=3426133, Index='919'), Symbol(Weight=3932451, Index='462'), Symbol(Weight=1618977, Index='927'), Symbol(Weight=1378107, Index='934'), Symbol(Weight=2017252, Index='468'), Symbol(Weight=497228, Index='116'), Symbol(Weight=3500210, Index='943'), Symbol(Weight=1709020, Index='474'), Symbol(Weight=709728, Index='476'), Symbol(Weight=1309140, Index='118'), Symbol(Weight=1230065, Index='479'), Symbol(Weight=636731, Index='963'), Symbol(Weight=1379613, Index='968'), Symbol(Weight=2600124, Index='486'), Symbol(Weight=801991, Index='14'), Symbol(Weight=1170616, Index='982'), Symbol(Weight=795887, Index='984'), Symbol(Weight=3896473, Index='990'), Symbol(Weight=4563360, Index='994'), Symbol(Weight=3210575, Index='497'), Symbol(Weight=8499854, Index='499'), Symbol(Weight=3646317, Index='250'), Symbol(Weight=7276642, Index='125'), Symbol(Weight=5225044, Index='505'), Symbol(Weight=7662259, Index='508'), Symbol(Weight=7333021, Index='254'), Symbol(Weight=2218973, Index='255'), Symbol(Weight=4656642, Index='256'), Symbol(Weight=5395580, Index='257'), Symbol(Weight=6097359, Index='63'), Symbol(Weight=6755902, Index='520'), Symbol(Weight=5570691, Index='260'), Symbol(Weight=4846509, Index='130'), Symbol(Weight=6332343, Index='64'), Symbol(Weight=2471915, Index='528'), Symbol(Weight=2867487, Index='530'), Symbol(Weight=3667457, Index='532'), Symbol(Weight=6836791, Index='534'), Symbol(Weight=7031847, Index='32'), Symbol(Weight=5647807, Index='268'), Symbol(Weight=6633667, Index='540'), Symbol(Weight=6493718, Index='541'), Symbol(Weight=2403363, Index='543'), Symbol(Weight=3825501, Index='546'), Symbol(Weight=5153724, Index='67'), Symbol(Weight=2714778, Index='550'), Symbol(Weight=1346546, Index='275'), Symbol(Weight=3294809, Index='553'), Symbol(Weight=6283749, Index='277'), Symbol(Weight=2353241, Index='278'), Symbol(Weight=3682949, Index='279'), Symbol(Weight=7522856, Index='280'), Symbol(Weight=4007404, Index='563'), Symbol(Weight=3439397, Index='566'), Symbol(Weight=2400452, Index='567'), Symbol(Weight=1850113, Index='570'), Symbol(Weight=2659662, Index='571'), Symbol(Weight=1926856, Index='286'), Symbol(Weight=4122987, Index='143'), Symbol(Weight=5684375, Index='578'), Symbol(Weight=4692437, Index='144'), Symbol(Weight=8456014, Index='582'), Symbol(Weight=7509368, Index='583'), Symbol(Weight=7768963, Index='292'), Symbol(Weight=2868587, Index='72'), Symbol(Weight=5823610, Index='294'), Symbol(Weight=4010767, Index='592'), Symbol(Weight=2524081, Index='594'), Symbol(Weight=5429618, Index='17'), Symbol(Weight=5342919, Index='148'), Symbol(Weight=2731795, Index='8'), Symbol(Weight=3649759, Index='601'), Symbol(Weight=4684379, Index='301'), Symbol(Weight=2263107, Index='605'), Symbol(Weight=4012152, Index='608'), Symbol(Weight=6290125, Index='151'), Symbol(Weight=3119784, Index='611'), Symbol(Weight=3918571, Index='614'), Symbol(Weight=5019143, Index='615'), Symbol(Weight=3698908, Index='617'), Symbol(Weight=2548250, Index='37'), Symbol(Weight=4473394, Index='622'), Symbol(Weight=2325311, Index='77'), Symbol(Weight=2017931, Index='312'), Symbol(Weight=1890100, Index='156'), Symbol(Weight=2209647, Index='38'), Symbol(Weight=1330242, Index='315'), Symbol(Weight=1331899, Index='633'), Symbol(Weight=4642901, Index='158'), Symbol(Weight=1803917, Index='637'), Symbol(Weight=3605378, Index='639'), Symbol(Weight=2625367, Index='641'), Symbol(Weight=2464278, Index='643'), Symbol(Weight=1968038, Index='646'), Symbol(Weight=1950231, Index='161'), Symbol(Weight=2199230, Index='650'), Symbol(Weight=2691670, Index='651'), Symbol(Weight=3055273, Index='654'), Symbol(Weight=2682978, Index='327'), Symbol(Weight=4305906, Index='658'), Symbol(Weight=6975171, Index='329'), Symbol(Weight=3164901, Index='661'), Symbol(Weight=3720363, Index='663'), Symbol(Weight=5145168, Index='665'), Symbol(Weight=3121259, Index='668'), Symbol(Weight=3249739, Index='334'), Symbol(Weight=4541817, Index='335'), Symbol(Weight=7253416, Index='673'), Symbol(Weight=3333465, Index='676'), Symbol(Weight=3851724, Index='677'), Symbol(Weight=1858307, Index='84'), Symbol(Weight=5070284, Index='681'), Symbol(Weight=4774305, Index='170'), Symbol(Weight=5467399, Index='686'), Symbol(Weight=3506122, Index='343'), Symbol(Weight=1673754, Index='344'), Symbol(Weight=3161921, Index='345'), Symbol(Weight=3389703, Index='694'), Symbol(Weight=8089365, Index='695'), Symbol(Weight=6359261, Index='348'), Symbol(Weight=7231836, Index='20'), Symbol(Weight=6993002, Index='702'), Symbol(Weight=2860509, Index='703'), Symbol(Weight=2667794, Index='4'), Symbol(Weight=5484908, Index='353'), Symbol(Weight=1189333, Index='709'), Symbol(Weight=2362911, Index='88'), Symbol(Weight=2970241, Index='714'), Symbol(Weight=4769175, Index='715'), Symbol(Weight=6872740, Index='358'), Symbol(Weight=4457249, Index='720'), Symbol(Weight=6170563, Index='179'), Symbol(Weight=3696071, Index='724'), Symbol(Weight=8026529, Index='726'), Symbol(Weight=7214217, Index='363'), Symbol(Weight=2822849, Index='729'), Symbol(Weight=1573997, Index='732'), Symbol(Weight=1247848, Index='366'), Symbol(Weight=4034299, Index='735'), Symbol(Weight=6852892, Index='1'), Symbol(Weight=3912623, Index='740'), Symbol(Weight=1484230, Index='184'), Symbol(Weight=4502892, Index='743'), Symbol(Weight=4503602, Index='746'), Symbol(Weight=2625711, Index='373'), Symbol(Weight=6859568, Index='750'), Symbol(Weight=6552397, Index='93'), Symbol(Weight=4233823, Index='376'), Symbol(Weight=6276651, Index='377'), Symbol(Weight=2664448, Index='378'), Symbol(Weight=7049520, Index='759'), Symbol(Weight=5534970, Index='189'), Symbol(Weight=5784690, Index='764'), Symbol(Weight=3805014, Index='94'), Symbol(Weight=5545395, Index='767'), Symbol(Weight=6627958, Index='384'), Symbol(Weight=2925254, Index='771'), Symbol(Weight=6698031, Index='47'), Symbol(Weight=5342809, Index='193'), Symbol(Weight=2165077, Index='778'), Symbol(Weight=3042587, Index='779'), Symbol(Weight=1536476, Index='194'), Symbol(Weight=5346031, Index='97'), Symbol(Weight=5997922, Index='392'), Symbol(Weight=3527804, Index='787'), Symbol(Weight=7654800, Index='196'), Symbol(Weight=4555928, Index='791'), Symbol(Weight=5165404, Index='197'), Symbol(Weight=6514736, Index='796'), Symbol(Weight=5699199, Index='98'), Symbol(Weight=3295737, Index='399'), Symbol(Weight=2530979, Index='400'), Symbol(Weight=2307649, Index='401'), Symbol(Weight=5297037, Index='99'), Symbol(Weight=5313145, Index='808'), Symbol(Weight=7029165, Index='404'), Symbol(Weight=5171511, Index='202'), Symbol(Weight=6358863, Index='813'), Symbol(Weight=2296287, Index='407'), Symbol(Weight=2603987, Index='408'), Symbol(Weight=5489406, Index='409'), Symbol(Weight=3591569, Index='821'), Symbol(Weight=3079629, Index='824'), Symbol(Weight=3042471, Index='205'), Symbol(Weight=5442652, Index='827'), Symbol(Weight=1614167, Index='830'), Symbol(Weight=6474016, Index='415'), Symbol(Weight=4503170, Index='834'), Symbol(Weight=8521382, Index='836'), Symbol(Weight=5247205, Index='838'), Symbol(Weight=1411550, Index='209'), Symbol(Weight=2272567, Index='841'), Symbol(Weight=4740530, Index='421'), Symbol(Weight=4379911, Index='422'), Symbol(Weight=3824354, Index='211'), Symbol(Weight=5278246, Index='850'), Symbol(Weight=4123053, Index='52'), Symbol(Weight=4139944, Index='212'), Symbol(Weight=1892081, Index='427'), Symbol(Weight=3981651, Index='428'), Symbol(Weight=4930580, Index='429'), Symbol(Weight=3580190, Index='862'), Symbol(Weight=5694987, Index='864'), Symbol(Weight=3671960, Index='866'), Symbol(Weight=3572962, Index='868'), Symbol(Weight=2258158, Index='870'), Symbol(Weight=4338437, Index='435'), Symbol(Weight=7765611, Index='873'), Symbol(Weight=2655517, Index='875'), Symbol(Weight=3423833, Index='218'), Symbol(Weight=4655065, Index='439'), Symbol(Weight=3011010, Index='881'), Symbol(Weight=4905242, Index='883'), Symbol(Weight=1309337, Index='885'), Symbol(Weight=4536352, Index='887'), Symbol(Weight=7652314, Index='444'), Symbol(Weight=2760381, Index='110'), Symbol(Weight=1536730, Index='894'), Symbol(Weight=3959384, Index='447'), Symbol(Weight=6905830, Index='898'), Symbol(Weight=3987281, Index='900'), Symbol(Weight=3882653, Index='902'), Symbol(Weight=5164890, Index='904'), Symbol(Weight=3665750, Index='905'), Symbol(Weight=1384870, Index='226'), Symbol(Weight=3959682, Index='910'), Symbol(Weight=2346297, Index='911'), Symbol(Weight=3717635, Index='914'), Symbol(Weight=3556415, Index='916'), Symbol(Weight=4196127, Index='228'), Symbol(Weight=5791610, Index='459'), Symbol(Weight=5073444, Index='460'), Symbol(Weight=8189308, Index='461'), Symbol(Weight=7030103, Index='6'), Symbol(Weight=1771427, Index='115'), Symbol(Weight=2523371, Index='464'), Symbol(Weight=3171828, Index='932'), Symbol(Weight=4819908, Index='933'), Symbol(Weight=4014101, Index='467'), Symbol(Weight=3235725, Index='2'), Symbol(Weight=1608691, Index='469'), Symbol(Weight=2119923, Index='234'), Symbol(Weight=3780734, Index='58'), Symbol(Weight=6506530, Index='472'), Symbol(Weight=2032202, Index='236'), Symbol(Weight=4194220, Index='13'), Symbol(Weight=732979, Index='952'), Symbol(Weight=3186821, Index='954'), Symbol(Weight=3257410, Index='955'), Symbol(Weight=1771529, Index='958'), Symbol(Weight=3259365, Index='960'), Symbol(Weight=3601052, Index='962'), Symbol(Weight=3996308, Index='240'), Symbol(Weight=4948841, Index='482'), Symbol(Weight=5499670, Index='967'), Symbol(Weight=1797443, Index='970'), Symbol(Weight=3009608, Index='972'), Symbol(Weight=3371230, Index='974'), Symbol(Weight=886140, Index='487'), Symbol(Weight=3425484, Index='488'), Symbol(Weight=1462877, Index='980'), Symbol(Weight=1765229, Index='121'), Symbol(Weight=4483866, Index='491'), Symbol(Weight=804116, Index='985'), Symbol(Weight=5425139, Index='246'), Symbol(Weight=4908084, Index='122'), Symbol(Weight=5080401, Index='991'), Symbol(Weight=4844078, Index='993'), Symbol(Weight=7377399, Index='61'), Symbol(Weight=5630654, Index='498'), Symbol(Weight=8862959, Index='124'), Symbol(Weight=9594800, Index='249'), Symbol(Weight=4094756, Index='501'), Symbol(Weight=7364964, Index='502'), Symbol(Weight=7285883, Index='251'), Symbol(Weight=8149244, Index='504'), Symbol(Weight=6529211, Index='62'), Symbol(Weight=7409718, Index='506'), Symbol(Weight=8157209, Index='507'), Symbol(Weight=9603157, Index='126'), Symbol(Weight=7760348, Index='509'), Symbol(Weight=9106972, Index='510'), Symbol(Weight=2648302, Index='511'), Symbol(Weight=5546257, Index='31'), Symbol(Weight=4934808, Index='127'), Symbol(Weight=9978358, Index='514'), Symbol(Weight=9752431, Index='515'), Symbol(Weight=7835150, Index='516'), Symbol(Weight=7039906, Index='517'), Symbol(Weight=8923714, Index='258'), Symbol(Weight=7566994, Index='519'), Symbol(Weight=6945214, Index='259'), Symbol(Weight=9602458, Index='521'), Symbol(Weight=7621071, Index='522'), Symbol(Weight=4888538, Index='523'), Symbol(Weight=7809809, Index='524'), Symbol(Weight=6348659, Index='262'), Symbol(Weight=7939434, Index='526'), Symbol(Weight=7630425, Index='527'), Symbol(Weight=5474314, Index='131'), Symbol(Weight=6753343, Index='264'), Symbol(Weight=5781826, Index='65'), Symbol(Weight=4910075, Index='531'), Symbol(Weight=4421015, Index='265'), Symbol(Weight=8233899, Index='132'), Symbol(Weight=8045172, Index='3'), Symbol(Weight=7482135, Index='535'), Symbol(Weight=9034598, Index='536'), Symbol(Weight=5676907, Index='537'), Symbol(Weight=8773930, Index='15'), Symbol(Weight=9568704, Index='539'), Symbol(Weight=8444917, Index='269'), Symbol(Weight=7102932, Index='270'), Symbol(Weight=8509618, Index='542'), Symbol(Weight=5289986, Index='271'), Symbol(Weight=4521616, Index='544'), Symbol(Weight=4142717, Index='545'), Symbol(Weight=8718721, Index='272'), Symbol(Weight=5734943, Index='547'), Symbol(Weight=6781157, Index='548'), Symbol(Weight=7043308, Index='549'), Symbol(Weight=8498281, Index='136'), Symbol(Weight=2562210, Index='551'), Symbol(Weight=4467454, Index='552'), Symbol(Weight=5882478, Index='7'), Symbol(Weight=9959436, Index='33'), Symbol(Weight=6843026, Index='555'), Symbol(Weight=7498447, Index='16'), Symbol(Weight=3807379, Index='557'), Symbol(Weight=9353508, Index='558'), Symbol(Weight=8093006, Index='139'), Symbol(Weight=4437902, Index='69'), Symbol(Weight=8348712, Index='561'), Symbol(Weight=9455063, Index='562'), Symbol(Weight=4084086, Index='140'), Symbol(Weight=8745465, Index='281'), Symbol(Weight=4679226, Index='565'), Symbol(Weight=9520247, Index='282'), Symbol(Weight=2894009, Index='283'), Symbol(Weight=3794129, Index='568'), Symbol(Weight=2600105, Index='569'), Symbol(Weight=2259431, Index='284'), Symbol(Weight=6638652, Index='285'), Symbol(Weight=3127710, Index='572'), Symbol(Weight=3398506, Index='70'), Symbol(Weight=3698397, Index='142'), Symbol(Weight=9633791, Index='287'), Symbol(Weight=8386556, Index='576'), Symbol(Weight=8696999, Index='577'), Symbol(Weight=8893205, Index='288'), Symbol(Weight=4978411, Index='579'), Symbol(Weight=6673706, Index='580'), Symbol(Weight=9201552, Index='581'), Symbol(Weight=8473128, Index='290'), Symbol(Weight=7917039, Index='145'), Symbol(Weight=7961171, Index='291'), Symbol(Weight=8664366, Index='585'), Symbol(Weight=8113437, Index='586'), Symbol(Weight=8983823, Index='587'), Symbol(Weight=8158982, Index='293'), Symbol(Weight=7132656, Index='35'), Symbol(Weight=5920285, Index='590'), Symbol(Weight=8530242, Index='591'), Symbol(Weight=8894456, Index='295'), Symbol(Weight=3315346, Index='593'), Symbol(Weight=9334428, Index='147'), Symbol(Weight=9863608, Index='36'), Symbol(Weight=8201066, Index='297'), Symbol(Weight=9448969, Index='597'), Symbol(Weight=7861924, Index='298'), Symbol(Weight=6449351, Index='74'), Symbol(Weight=6408573, Index='299'), Symbol(Weight=8732807, Index='149'), Symbol(Weight=3949582, Index='300'), Symbol(Weight=5474772, Index='603'), Symbol(Weight=8325637, Index='604'), Symbol(Weight=4744609, Index='302'), Symbol(Weight=9288002, Index='606'), Symbol(Weight=9051858, Index='303'), Symbol(Weight=7063764, Index='75'), Symbol(Weight=9496180, Index='609'), Symbol(Weight=7599357, Index='610'), Symbol(Weight=3122478, Index='305'), Symbol(Weight=6849327, Index='612'), Symbol(Weight=7368417, Index='613'), Symbol(Weight=6338581, Index='152'), Symbol(Weight=5250660, Index='307'), Symbol(Weight=7816600, Index='616'), Symbol(Weight=4415850, Index='308'), Symbol(Weight=9386292, Index='618'), Symbol(Weight=8808519, Index='309'), Symbol(Weight=9110714, Index='76'), Symbol(Weight=7080841, Index='310'), Symbol(Weight=5121265, Index='154'), Symbol(Weight=5880820, Index='623'), Symbol(Weight=3370978, Index='624'), Symbol(Weight=8525526, Index='625'), Symbol(Weight=7720062, Index='626'), Symbol(Weight=6094764, Index='627'), Symbol(Weight=6975371, Index='628'), Symbol(Weight=9034588, Index='629'), Symbol(Weight=3285196, Index='314'), Symbol(Weight=7472233, Index='631'), Symbol(Weight=8616597, Index='632'), Symbol(Weight=3143107, Index='157'), Symbol(Weight=6725820, Index='634'), Symbol(Weight=6481783, Index='317'), Symbol(Weight=5111362, Index='636'), Symbol(Weight=5883213, Index='78'), Symbol(Weight=3482963, Index='638'), Symbol(Weight=9877021, Index='319'), Symbol(Weight=5407258, Index='640'), Symbol(Weight=8447001, Index='159'), Symbol(Weight=9055363, Index='320'), Symbol(Weight=5593021, Index='160'), Symbol(Weight=4854217, Index='321'), Symbol(Weight=4557053, Index='322'), Symbol(Weight=8069760, Index='39'), Symbol(Weight=6320843, Index='647'), Symbol(Weight=2917881, Index='648'), Symbol(Weight=7807840, Index='649'), Symbol(Weight=7347325, Index='324'), Symbol(Weight=7760197, Index='325'), Symbol(Weight=7583934, Index='652'), Symbol(Weight=5029628, Index='653'), Symbol(Weight=5383811, Index='326'), Symbol(Weight=5523150, Index='655'), Symbol(Weight=8305333, Index='81'), Symbol(Weight=5666836, Index='657'), Symbol(Weight=6420175, Index='163'), Symbol(Weight=7922171, Index='659'), Symbol(Weight=9787624, Index='660'), Symbol(Weight=7749135, Index='330'), Symbol(Weight=8298150, Index='662'), Symbol(Weight=4161112, Index='19'), Symbol(Weight=8155910, Index='664'), Symbol(Weight=7243071, Index='165'), Symbol(Weight=6247739, Index='332'), Symbol(Weight=6290391, Index='333'), Symbol(Weight=8572628, Index='40'), Symbol(Weight=7952235, Index='669'), Symbol(Weight=7922116, Index='166'), Symbol(Weight=5712230, Index='83'), Symbol(Weight=6839437, Index='672'), Symbol(Weight=9344483, Index='41'), Symbol(Weight=9639930, Index='167'), Symbol(Weight=9421755, Index='337'), Symbol(Weight=5333616, Index='168'), Symbol(Weight=8738433, Index='338'), Symbol(Weight=7438085, Index='678'), Symbol(Weight=9679393, Index='679'), Symbol(Weight=8050203, Index='169'), Symbol(Weight=7104303, Index='340'), Symbol(Weight=6891277, Index='682'), Symbol(Weight=8752837, Index='683'), Symbol(Weight=8278436, Index='684'), Symbol(Weight=8723147, Index='685'), Symbol(Weight=9979223, Index='342'), Symbol(Weight=7342538, Index='171'), Symbol(Weight=9079534, Index='85'), Symbol(Weight=7395024, Index='689'), Symbol(Weight=6524438, Index='690'), Symbol(Weight=6111922, Index='691'), Symbol(Weight=4388265, Index='692'), Symbol(Weight=8132181, Index='693'), Symbol(Weight=7946249, Index='172'), Symbol(Weight=8630567, Index='9'), Symbol(Weight=9807139, Index='696'), Symbol(Weight=7057278, Index='697'), Symbol(Weight=8063236, Index='698'), Symbol(Weight=7392465, Index='699'), Symbol(Weight=8865961, Index='86'), Symbol(Weight=9879636, Index='701'), Symbol(Weight=8874074, Index='42'), Symbol(Weight=3790204, Index='175'), Symbol(Weight=3901778, Index='351'), Symbol(Weight=8727902, Index='705'), Symbol(Weight=6823970, Index='706'), Symbol(Weight=5760205, Index='707'), Symbol(Weight=8982619, Index='708'), Symbol(Weight=4238363, Index='176'), Symbol(Weight=2875582, Index='354'), Symbol(Weight=8638786, Index='43'), Symbol(Weight=3738494, Index='355'), Symbol(Weight=6710898, Index='713'), Symbol(Weight=8894826, Index='177'), Symbol(Weight=6302156, Index='178'), Symbol(Weight=6051223, Index='357'), Symbol(Weight=8960359, Index='717'), Symbol(Weight=7919966, Index='718'), Symbol(Weight=9844247, Index='719'), Symbol(Weight=4765176, Index='359'), Symbol(Weight=6305295, Index='721'), Symbol(Weight=7220104, Index='360'), Symbol(Weight=9311730, Index='723'), Symbol(Weight=7812182, Index='44'), Symbol(Weight=9842137, Index='362'), Symbol(Weight=9363702, Index='180'), Symbol(Weight=9018656, Index='727'), Symbol(Weight=8786437, Index='728'), Symbol(Weight=8127291, Index='181'), Symbol(Weight=5702910, Index='364'), Symbol(Weight=2628894, Index='365'), Symbol(Weight=9717796, Index='182'), Symbol(Weight=3366532, Index='90'), Symbol(Weight=4810066, Index='734'), Symbol(Weight=9218081, Index='183'), Symbol(Weight=6398176, Index='736'), Symbol(Weight=8102279, Index='737'), Symbol(Weight=6927406, Index='738'), Symbol(Weight=4128359, Index='739'), Symbol(Weight=8206791, Index='369'), Symbol(Weight=4172411, Index='741'), Symbol(Weight=8843603, Index='370'), Symbol(Weight=7813585, Index='92'), Symbol(Weight=8938413, Index='744'), Symbol(Weight=4749339, Index='372'), Symbol(Weight=4849731, Index='45'), Symbol(Weight=8389366, Index='186'), Symbol(Weight=6081576, Index='748'), Symbol(Weight=7492446, Index='749'), Symbol(Weight=9550792, Index='374'), Symbol(Weight=6592440, Index='751'), Symbol(Weight=7938443, Index='187'), Symbol(Weight=8126217, Index='753'), Symbol(Weight=4756682, Index='754'), Symbol(Weight=7950114, Index='755'), Symbol(Weight=7224817, Index='10'), Symbol(Weight=4227759, Index='757'), Symbol(Weight=8409663, Index='758'), Symbol(Weight=7474888, Index='379'), Symbol(Weight=9553411, Index='760'), Symbol(Weight=7991122, Index='761'), Symbol(Weight=6037327, Index='22'), Symbol(Weight=9273380, Index='763'), Symbol(Weight=6593317, Index='381'), Symbol(Weight=8079351, Index='765'), Symbol(Weight=8558865, Index='766'), Symbol(Weight=7116876, Index='191'), Symbol(Weight=9572785, Index='768'), Symbol(Weight=7693039, Index='95'), Symbol(Weight=9147454, Index='11'), Symbol(Weight=3058532, Index='385'), Symbol(Weight=3882138, Index='772'), Symbol(Weight=9879739, Index='773'), Symbol(Weight=6768384, Index='386'), Symbol(Weight=7803982, Index='775'), Symbol(Weight=7084346, Index='387'), Symbol(Weight=4082368, Index='777'), Symbol(Weight=4800944, Index='388'), Symbol(Weight=4819847, Index='389'), Symbol(Weight=9968891, Index='780'), Symbol(Weight=7262102, Index='781'), Symbol(Weight=7045177, Index='390'), Symbol(Weight=7365650, Index='391'), Symbol(Weight=8501245, Index='784'), Symbol(Weight=8452218, Index='785'), Symbol(Weight=8972323, Index='195'), Symbol(Weight=5208999, Index='393'), Symbol(Weight=8873317, Index='788'), Symbol(Weight=7729267, Index='394'), Symbol(Weight=9582323, Index='790'), Symbol(Weight=9285990, Index='395'), Symbol(Weight=5802025, Index='792'), Symbol(Weight=9354758, Index='396'), Symbol(Weight=9407054, Index='794'), Symbol(Weight=7404507, Index='48'), Symbol(Weight=8518300, Index='23'), Symbol(Weight=7464615, Index='198'), Symbol(Weight=9044992, Index='398'), Symbol(Weight=3310966, Index='799'), Symbol(Weight=8556302, Index='800'), Symbol(Weight=8864025, Index='199'), Symbol(Weight=6235973, Index='802'), Symbol(Weight=4604649, Index='803'), Symbol(Weight=6119573, Index='200'), Symbol(Weight=9857682, Index='402'), Symbol(Weight=5439070, Index='806'), Symbol(Weight=8012943, Index='403'), Symbol(Weight=8236308, Index='100'), Symbol(Weight=9218187, Index='809'), Symbol(Weight=8440544, Index='201'), Symbol(Weight=5883301, Index='811'), Symbol(Weight=9827097, Index='812'), Symbol(Weight=7856211, Index='406'), Symbol(Weight=7705902, Index='814'), Symbol(Weight=2817584, Index='101'), Symbol(Weight=3446979, Index='816'), Symbol(Weight=5722086, Index='203'), Symbol(Weight=7127672, Index='818'), Symbol(Weight=8379593, Index='50'), Symbol(Weight=8015688, Index='204'), Symbol(Weight=5398931, Index='410'), Symbol(Weight=4932798, Index='822'), Symbol(Weight=5856066, Index='823'), Symbol(Weight=8497844, Index='411'), Symbol(Weight=7487083, Index='825'), Symbol(Weight=6682658, Index='826'), Symbol(Weight=8594631, Index='413'), Symbol(Weight=5734430, Index='828'), Symbol(Weight=4286579, Index='829'), Symbol(Weight=4715257, Index='102'), Symbol(Weight=9061552, Index='831'), Symbol(Weight=7636648, Index='832'), Symbol(Weight=6215627, Index='833'), Symbol(Weight=9339029, Index='416'), Symbol(Weight=9236790, Index='835'), Symbol(Weight=8546605, Index='208'), Symbol(Weight=7749368, Index='837'), Symbol(Weight=9664028, Index='418'), Symbol(Weight=2291705, Index='419'), Symbol(Weight=6368177, Index='840'), Symbol(Weight=6985762, Index='420'), Symbol(Weight=8007799, Index='842'), Symbol(Weight=8902975, Index='843'), Symbol(Weight=6620440, Index='844'), Symbol(Weight=8001611, Index='845'), Symbol(Weight=9478541, Index='104'), Symbol(Weight=9933557, Index='105'), Symbol(Weight=9869271, Index='423'), Symbol(Weight=8075767, Index='849'), Symbol(Weight=9835332, Index='424'), Symbol(Weight=4806727, Index='425'), Symbol(Weight=9357701, Index='852'), Symbol(Weight=5856936, Index='426'), Symbol(Weight=6081372, Index='854'), Symbol(Weight=4032029, Index='855'), Symbol(Weight=7152249, Index='856'), Symbol(Weight=8534425, Index='857'), Symbol(Weight=6093548, Index='858'), Symbol(Weight=7540662, Index='0'), Symbol(Weight=9407116, Index='860'), Symbol(Weight=9889780, Index='430'), Symbol(Weight=9589026, Index='214'), Symbol(Weight=8788289, Index='863'), Symbol(Weight=6300149, Index='215'), Symbol(Weight=7424854, Index='865'), Symbol(Weight=4401250, Index='53'), Symbol(Weight=6915998, Index='216'), Symbol(Weight=3943007, Index='107'), Symbol(Weight=9593240, Index='434'), Symbol(Weight=9180184, Index='12'), Symbol(Weight=5015100, Index='26'), Symbol(Weight=9018342, Index='872'), Symbol(Weight=8013637, Index='217'), Symbol(Weight=9706446, Index='874'), Symbol(Weight=8528391, Index='437'), Symbol(Weight=9916957, Index='876'), Symbol(Weight=5112225, Index='877'), Symbol(Weight=6434739, Index='438'), Symbol(Weight=7290262, Index='219'), Symbol(Weight=5421516, Index='54'), Symbol(Weight=9130962, Index='440'), Symbol(Weight=9772019, Index='882'), Symbol(Weight=6211938, Index='220'), Symbol(Weight=8311268, Index='441'), Symbol(Weight=8211102, Index='442'), Symbol(Weight=2587005, Index='886'), Symbol(Weight=8737943, Index='221'), Symbol(Weight=7702653, Index='888'), Symbol(Weight=7802187, Index='889'), Symbol(Weight=8006005, Index='890'), Symbol(Weight=6497708, Index='891'), Symbol(Weight=6019016, Index='445'), Symbol(Weight=3368386, Index='446'), Symbol(Weight=2620444, Index='222'), Symbol(Weight=6402258, Index='111'), Symbol(Weight=9911792, Index='896'), Symbol(Weight=7131759, Index='897'), Symbol(Weight=7823630, Index='223'), Symbol(Weight=4521749, Index='449'), Symbol(Weight=5881412, Index='224'), Symbol(Weight=8041559, Index='450'), Symbol(Weight=8134188, Index='55'), Symbol(Weight=6103143, Index='903'), Symbol(Weight=8117630, Index='112'), Symbol(Weight=4589405, Index='225'), Symbol(Weight=7567713, Index='906'), Symbol(Weight=2024175, Index='907'), Symbol(Weight=5746116, Index='453'), Symbol(Weight=7870654, Index='909'), Symbol(Weight=6871915, Index='454'), Symbol(Weight=5296634, Index='227'), Symbol(Weight=8918266, Index='455'), Symbol(Weight=8053278, Index='913'), Symbol(Weight=3856582, Index='113'), Symbol(Weight=7003767, Index='915'), Symbol(Weight=7707477, Index='457'), Symbol(Weight=4226994, Index='917'), Symbol(Weight=5833572, Index='918'), Symbol(Weight=8817555, Index='229'), Symbol(Weight=8660808, Index='920'), Symbol(Weight=8566596, Index='921'), Symbol(Weight=6389614, Index='922'), Symbol(Weight=8319394, Index='56'), Symbol(Weight=8655532, Index='924'), Symbol(Weight=9371822, Index='114'), Symbol(Weight=8344235, Index='230'), Symbol(Weight=6966131, Index='463'), Symbol(Weight=5113351, Index='928'), Symbol(Weight=7114006, Index='929'), Symbol(Weight=9077367, Index='231'), Symbol(Weight=7283473, Index='931'), Symbol(Weight=3237916, Index='465'), Symbol(Weight=5865668, Index='232'), Symbol(Weight=8946890, Index='466'), Symbol(Weight=7276455, Index='935'), Symbol(Weight=9363718, Index='233'), Symbol(Weight=7156144, Index='937'), Symbol(Weight=3802117, Index='938'), Symbol(Weight=3189072, Index='939'), Symbol(Weight=3208861, Index='940'), Symbol(Weight=9611963, Index='57'), Symbol(Weight=8888567, Index='942'), Symbol(Weight=7947765, Index='235'), Symbol(Weight=5135748, Index='944'), Symbol(Weight=8769878, Index='945'), Symbol(Weight=8502109, Index='117'), Symbol(Weight=4917463, Index='947'), Symbol(Weight=5767214, Index='948'), Symbol(Weight=5972689, Index='949'), Symbol(Weight=6261982, Index='950'), Symbol(Weight=4140557, Index='951'), Symbol(Weight=9555716, Index='475'), Symbol(Weight=9614188, Index='953'), Symbol(Weight=9658187, Index='237'), Symbol(Weight=8716178, Index='477'), Symbol(Weight=4564278, Index='956'), Symbol(Weight=5656747, Index='478'), Symbol(Weight=2227269, Index='238'), Symbol(Weight=9454158, Index='959'), Symbol(Weight=6249282, Index='29'), Symbol(Weight=8487375, Index='480'), Symbol(Weight=6331838, Index='239'), Symbol(Weight=7166190, Index='481'), Symbol(Weight=6993050, Index='964'), Symbol(Weight=6485811, Index='965'), Symbol(Weight=7986006, Index='966'), Symbol(Weight=5700867, Index='241'), Symbol(Weight=6882759, Index='483'), Symbol(Weight=7351266, Index='969'), Symbol(Weight=6677256, Index='484'), Symbol(Weight=8612151, Index='242'), Symbol(Weight=3397897, Index='120'), Symbol(Weight=3382161, Index='973'), Symbol(Weight=6096612, Index='59'), Symbol(Weight=4662268, Index='243'), Symbol(Weight=6812480, Index='976'), Symbol(Weight=8250599, Index='977'), Symbol(Weight=4939811, Index='978'), Symbol(Weight=4602102, Index='979'), Symbol(Weight=3273528, Index='489'), Symbol(Weight=8447562, Index='981'), Symbol(Weight=8746986, Index='244'), Symbol(Weight=5121988, Index='983'), Symbol(Weight=6971484, Index='60'), Symbol(Weight=6416998, Index='492'), Symbol(Weight=1281873, Index='986'), Symbol(Weight=7966718, Index='493'), Symbol(Weight=7386698, Index='988'), Symbol(Weight=5461863, Index='989'), Symbol(Weight=7807042, Index='494'), Symbol(Weight=6305964, Index='495'), Symbol(Weight=8044456, Index='992'), Symbol(Weight=6377733, Index='247'), Symbol(Weight=4966440, Index='496'), Symbol(Weight=8568320, Index='995'), Symbol(Weight=9353243, Index='30'), Symbol(Weight=8850726, Index='997'), Symbol(Weight=8798444, Index='998'), Symbol(Weight=9179767, Index='999')]\n",
            "1000\n"
          ],
          "name": "stdout"
        }
      ]
    },
    {
      "cell_type": "code",
      "metadata": {
        "id": "4RHVGBQJKz4a",
        "colab_type": "code",
        "colab": {}
      },
      "source": [
        "def combine_symbols(a, b):\n",
        "  return Symbol(a.Weight + b.Weight, '+'.join([a.Index, b.Index]))"
      ],
      "execution_count": 0,
      "outputs": []
    },
    {
      "cell_type": "code",
      "metadata": {
        "id": "dPNQ20p4DhFh",
        "colab_type": "code",
        "colab": {}
      },
      "source": [
        "def huffman(tree):\n",
        "  code_len = [0] * len(tree)\n",
        "  while len(tree) > 1:\n",
        "    a = heapq.heappop(tree)\n",
        "    b = heapq.heappop(tree)\n",
        "    meta_symbol = combine_symbols(a, b)\n",
        "    heapq.heappush(tree, meta_symbol)\n",
        "    components = [int(item) for item in meta_symbol.Index.split('+')]\n",
        "    for index in components:\n",
        "      code_len[index] += 1\n",
        "  return code_len"
      ],
      "execution_count": 0,
      "outputs": []
    },
    {
      "cell_type": "code",
      "metadata": {
        "id": "pgup2sQzMTDy",
        "colab_type": "code",
        "colab": {}
      },
      "source": [
        "code_len = huffman(tree)"
      ],
      "execution_count": 0,
      "outputs": []
    },
    {
      "cell_type": "code",
      "metadata": {
        "id": "2tWBNg70OIxu",
        "colab_type": "code",
        "outputId": "9bcda766-b628-4265-92da-23ba471dad90",
        "colab": {
          "base_uri": "https://localhost:8080/",
          "height": 52
        }
      },
      "source": [
        "print(\"Maximum code length= \" + str(max(code_len)))\n",
        "print(\"Minimum code length= \" + str(min(code_len)))"
      ],
      "execution_count": 0,
      "outputs": [
        {
          "output_type": "stream",
          "text": [
            "Maximum code length= 19\n",
            "Minimum code length= 9\n"
          ],
          "name": "stdout"
        }
      ]
    },
    {
      "cell_type": "code",
      "metadata": {
        "id": "hk1UTtBvOk83",
        "colab_type": "code",
        "colab": {}
      },
      "source": [
        "def read_nodes(path):\n",
        "  file = open(path,'r')\n",
        "  data = file.readlines()\n",
        "\n",
        "  weights = [0]*(int(data[0])+1)\n",
        "  for index,line in enumerate(data[1:]):\n",
        "      item = line.split()\n",
        "      weights[index+1] = int(item[0])\n",
        "\n",
        "  return weights"
      ],
      "execution_count": 0,
      "outputs": []
    },
    {
      "cell_type": "code",
      "metadata": {
        "id": "x-khlOJ7PXdP",
        "colab_type": "code",
        "outputId": "6e7d0430-4e3b-4f58-8891-67830c2dc753",
        "colab": {
          "base_uri": "https://localhost:8080/",
          "height": 54
        }
      },
      "source": [
        "nodes_list = read_nodes(MWIS_PATH)\n",
        "print(nodes_list)"
      ],
      "execution_count": 0,
      "outputs": [
        {
          "output_type": "stream",
          "text": [
            "[0, 4962786, 6395702, 5601590, 3803402, 6784626, 4944482, 2882725, 9310662, 5247184, 9819854, 8398364, 1470063, 4199696, 4623136, 8160902, 930850, 3889157, 8211214, 6560984, 8835416, 3024392, 3286693, 736791, 3862790, 1420652, 9767464, 6093772, 2133393, 358615, 4537366, 6655609, 5551123, 9039549, 469060, 304701, 5768649, 1339317, 8421671, 513661, 6792447, 3944383, 4692731, 4614391, 9344708, 4169702, 4345210, 9744699, 9407222, 6480402, 7985130, 4407746, 4040958, 7960851, 5394516, 4024926, 6784072, 1710864, 6886941, 7495555, 5654086, 2481292, 8892684, 2186179, 1539792, 1828698, 4741356, 3476859, 327340, 7634220, 808031, 5101226, 6958744, 1511709, 7231864, 7447240, 778642, 3120423, 1098518, 6450468, 399546, 7275028, 1081427, 7154897, 2804344, 9440402, 2909959, 2686145, 5099515, 3776057, 5765944, 8935025, 6477008, 3490890, 1691564, 2225172, 8510419, 9788522, 9484150, 7236748, 7334350, 3501364, 443073, 3839984, 511778, 5938948, 8542395, 998674, 307072, 3068204, 9908539, 4675871, 8958494, 713730, 489163, 2908154, 5500103, 7463231, 4256879, 801111, 1312026, 3383096, 9677883, 6972318, 9812223, 2680217, 1777191, 7197988, 8155531, 1762267, 256812, 4319070, 9635141, 9583155, 3250694, 149904, 9722955, 6836491, 5998739, 7077631, 2905680, 8047743, 5398820, 5327949, 8262028, 6446657, 6945815, 5201088, 1818890, 3455395, 2094958, 1387816, 73296, 5562568, 4138240, 7411620, 3236316, 3526603, 2889306, 5881661, 9746189, 295106, 1140760, 567794, 8971262, 8092826, 6178363, 6493070, 5307905, 3151323, 9430583, 5945625, 2591187, 4762105, 1419485, 7975274, 6200869, 3747595, 3496996, 5533979, 4881997, 6326981, 6530568, 6491735, 1433394, 5656371, 8268622, 4897856, 2245483, 1669874, 7743046, 3840061, 1703393, 6096353, 3282159, 4065018, 6008865, 3662040, 440417, 6320312, 9523490, 6583500, 1674269, 6902908, 8718923, 4953838, 4492172, 1406910, 7453747, 9251820, 1368416, 9781274, 8913978, 1395947, 5304262, 2437936, 9096011, 368065, 6977113, 305541, 7998419, 9113264, 932390, 5948936, 3610392, 6452644, 7392634, 4319886, 9125467, 2520028, 7543480, 1811018, 4099447, 4892952, 7597021, 8361800, 6314060, 4059634, 3125308, 3192850, 9152613, 1306872, 3292977, 9560779, 9488831, 9009343, 5026364, 1010852, 1545256, 8623793, 5644518, 2948787, 3809130, 2673396, 2060852, 2653718, 4176196, 1615904, 8461567, 46747, 1206954, 7220207, 9171602, 3338565, 3061384, 9674051, 2510050, 382009, 247219, 6002436, 1003287, 9988055, 3041426, 8936322, 7452194, 405922, 998911, 9382240, 4249228, 9221427, 4650092, 1772513, 2816258, 8258398, 1476303, 320865, 6700891, 8695236, 1180251, 9260565, 6330678, 3891892, 7567141, 2845081, 7192332, 5252074, 9132808, 9208518, 2096326, 342578, 8349742, 3159129, 4205011, 638307, 71223, 4872024, 4912458, 2849051, 4781804, 6261562, 7290515, 5007673, 7458434, 4013763, 8550805, 8008820, 2813461, 2055878, 7657837, 7385240, 4792029, 7538175, 5131101, 9006068, 3337699, 9317035, 1481292, 8231505, 9487483, 3345098, 449245, 453983, 5589565, 7292106, 2703366, 5298881, 4515612, 1256237, 2222110, 2684520, 7701606, 7853799, 1194554, 7851668, 2444712, 2930373, 1936058, 4295952, 889562, 7390238, 1844735, 8371775, 1735214, 6206412, 3559345, 6812846, 1985125, 1791905, 728358, 7230264, 428268, 7286935, 372152, 69051, 762807, 8510926, 2815300, 9983039, 3209564, 6777024, 4992085, 2890580, 562039, 9194719, 3176970, 7526657, 3493083, 7967410, 8786315, 4059864, 6382237, 7073152, 7545693, 6431229, 1028498, 5789973, 8113571, 7564283, 5817713, 6832277, 5002565, 2265208, 438557, 1757079, 230881, 8495104, 5103307, 7420851, 4180422, 7270131, 1905337, 1475037, 9123930, 9028159, 4990449, 2384686, 9696856, 3007692, 8297118, 211151, 5438779, 939934, 840794, 4164074, 8027683, 9922110, 1912779, 6026895, 3157619, 928339, 4618770, 7990617, 6364128, 1665428, 2032576, 4278982, 6100265, 6916991, 3385276, 1620451, 4938346, 6242748, 2804263, 7464822, 4556996, 5035925, 2753070, 1992856, 8716085, 9036144, 2277153, 8453661, 4998172, 5797542, 367000, 950156, 5886760, 8153903, 5106830, 9327140, 4457455, 5022044, 3052347, 966685, 5172349, 2728196, 114135, 114631, 950795, 5526943, 8218003, 4491994, 7829474, 2789301, 5316357, 4262939, 9673787, 9578536, 2523410, 506950, 4693798, 9940156, 6942521, 4182321, 5383012, 4860281, 8370920, 7573431, 7768171, 3221024, 136106, 3558236, 1532053, 3539310, 2559342, 5062808, 2759619, 1745360, 7119640, 2321292, 61658, 3124538, 7173906, 2308870, 7978139, 6890041, 6990701, 9148722, 7011840, 1004792, 8528187, 3401861, 2686816, 5880479, 4738654, 8779826, 3521280, 2432159, 6727447, 7812233, 6665980, 8840860, 8512364, 3689400, 7355420, 3122714, 5805153, 5906419, 2998226, 9406986, 5651526, 7543317, 972976, 3346751, 3019685, 8516433, 258788, 6865579, 7756334, 9451512, 9182658, 8428446, 6755965, 4586583, 7925989, 1750013, 1012874, 9879336, 383953, 8490296, 8428185, 2060982, 8463641, 7064392, 3495414, 6781287, 2006763, 3411676, 8172818, 8583986, 9299153, 5452259, 2107695, 4570801, 5699991, 8274500, 7659330, 3933403, 5088705, 1593520, 2318532, 800976, 5025027, 7639122, 1046031, 792737, 5459182, 1592753, 2170890, 9789466, 5809494, 7911061, 2539029, 8128492, 6194946, 8695485, 9659426, 3269288, 2485303, 7917729, 8230758, 8239170, 2859339, 6147337, 8804366, 25181, 2859231, 5697800, 5916890, 198723, 1295416, 6001047, 9065735, 3209019, 6034946, 1731523, 7530638, 4911295, 4227646, 8017018, 9172125, 5472593, 8707393, 4662570, 4188377, 3616500, 5372731, 2963776, 5781540, 547771, 6944907, 4830030, 3204711, 9652058, 3214849, 8558645, 1198566, 5762344, 6891881, 1340276, 4572263, 9330449, 1512284, 9286625, 4875144, 3487144, 456312, 3686685, 8103846, 1473723, 8969048, 1880736, 1759826, 2660009, 6476439, 4195665, 1902918, 6541154, 3688474, 9839555, 6651494, 7451271, 2178417, 1800904, 3486131, 7961262, 6080960, 5622791, 2353468, 6091491, 3704395, 5007227, 9766820, 7489731, 8204534, 653479, 9716090, 3198448, 9407622, 5800774, 2047472, 2054300, 2404336, 8797243, 8880009, 942131, 6609608, 5630020, 1811483, 9775730, 190668, 9154330, 5814438, 2349137, 87075, 377384, 8265014, 6235364, 1268556, 3993536, 1315177, 2978348, 6866975, 7192230, 9097204, 1508552, 8389823, 4418343, 3207064, 3228001, 9060408, 2572469, 4556887, 772937, 569691, 8870161, 8748666, 5320607, 591676, 6746779, 3049333, 1098005, 3201215, 3678652, 6987296, 703728, 9091928, 7137459, 7851264, 8679414, 5073340, 2800891, 3549720, 6492278, 7347897, 8150917, 9072915, 9901590, 2598922, 4927088, 1765561, 738823, 6527609, 8488766, 2377259, 1736305, 5587018, 2342320, 6319258, 9326385, 9725092, 3708463, 1751982, 8413788, 2812497, 6931514, 8034607, 7712963, 1665201, 5604160, 2580404, 8580377, 3987517, 6994034, 3461720, 9023568, 3001914, 3162591, 4862158, 5506641, 8098537, 3719415, 5423946, 3462891, 2006838, 5950531, 6884423, 5895826, 1687977, 7296380, 8527160, 579056, 929868, 6727615, 2911321, 1839652, 9883242, 4019779, 9351955, 1506017, 8878831, 4904090, 1116317, 2857737, 6748923, 3853755, 9070989, 6055928, 8495836, 3285325, 1291712, 3948504, 598342, 1281879, 3452434, 811454, 55155, 69666, 9746527, 8211717, 8216491, 2913751, 841852, 6067475, 4500451, 4812117, 9506317, 4721179, 3430293, 8096704, 2169682, 8080867, 959158, 6986191, 6230108, 1518225, 9144943, 4276108, 668735, 7066824, 5485477, 6897681, 9606419, 411948, 4773096, 257689, 5166916, 1026383, 3757232, 6403261, 120660, 8418961, 751193, 4319181, 1258900, 7066471, 5834556, 9970511, 694730, 9718714, 3113979, 1798400, 8577364, 967966, 7761512, 5987361, 1298629, 9751177, 2374549, 4800917, 6048397, 3881601, 5413145, 9343996, 5041981, 568535, 8439155, 438409, 776396, 8795136, 9114404, 6175501, 9079829, 6773121, 8172102, 9880452, 373909, 2155676, 2182504, 5579551, 7656805, 9861114, 4136374, 8786839, 9617640, 5277095, 8455766, 5737131, 8045592, 4790400, 5646144, 6598950, 7695887, 9387672, 907962, 957241, 7359468, 5934152, 8620600, 130133, 4298771, 8000946, 9967304, 9170262, 4052754, 3583496, 6095556, 3813728, 8025242, 5871565, 6064143, 5217101, 7327965, 2436132, 3590119, 931544, 9765838, 7736249, 7028875, 2828882, 3744219, 2038808, 2208794, 4519737, 2901376, 5151574, 875323, 7820979, 2271532, 5310716, 4816325, 6083796, 2704672, 7885209, 2415433, 3888095, 3656551, 3210487, 3509308, 5685228, 2198490, 1967673, 1415527, 2866735, 9860515, 3046505, 3877183, 6102348, 2798277, 5699538, 2173325, 1628328, 5033001, 4046418, 5181215, 8111653, 7485814, 5485629, 6017894, 3702841, 4723312, 5279763, 4548119, 1076239, 2571841, 1033405, 9934376, 9360558, 2683831, 2755130, 5472163, 1640750, 6639786, 8304816, 4736842, 718355, 8029910, 3933803, 6141288, 3957342, 1258240, 758402, 6150115, 4312581, 7783453, 9346578, 9585654, 2180358, 2487797, 8664854, 3572216, 8748977, 5218044, 2273780, 8092203, 8420778, 7982179, 8496968, 3197929, 6429917, 4356919, 5303666, 210350, 8520887, 7263348, 4287969, 9630021, 9990728, 8455483, 5433316, 4773035, 8432976, 3312796, 2431648, 8237261, 9628820, 1399389, 7546051, 8594344, 3304589, 6911311]\n"
          ],
          "name": "stdout"
        }
      ]
    },
    {
      "cell_type": "code",
      "metadata": {
        "id": "MUaae9_FPlY1",
        "colab_type": "code",
        "colab": {}
      },
      "source": [
        "def mwis(nodes_list):\n",
        "  A = list()\n",
        "  A.append(0)\n",
        "  A.append(nodes_list[1])\n",
        "  for index in range(2, len(nodes_list)):\n",
        "    A.append(max(A[index - 1], A[index - 2] + nodes_list[index]))\n",
        "\n",
        "  mwis_nodes = list()\n",
        "  while index >= 1:\n",
        "      if A[index - 1] >= (A[index - 2] + nodes_list[index]):\n",
        "        index -= 1\n",
        "      else:\n",
        "        mwis_nodes.append(index)\n",
        "        index -= 2\n",
        "  return mwis_nodes"
      ],
      "execution_count": 0,
      "outputs": []
    },
    {
      "cell_type": "code",
      "metadata": {
        "id": "FbG-w6DTQqTE",
        "colab_type": "code",
        "outputId": "2a10a03b-33d4-47b3-f85f-92187fe5ed54",
        "colab": {
          "base_uri": "https://localhost:8080/",
          "height": 72
        }
      },
      "source": [
        "mwis_nodes = mwis(nodes_list)\n",
        "print(mwis_nodes)\n",
        "print(len(mwis_nodes))"
      ],
      "execution_count": 0,
      "outputs": [
        {
          "output_type": "stream",
          "text": [
            "[1000, 998, 995, 993, 991, 989, 987, 985, 983, 981, 979, 977, 975, 973, 971, 969, 966, 964, 962, 960, 958, 956, 954, 952, 950, 948, 946, 944, 942, 940, 938, 936, 934, 932, 929, 927, 924, 921, 919, 917, 915, 913, 911, 909, 907, 905, 903, 900, 898, 896, 894, 892, 890, 888, 886, 884, 882, 880, 878, 876, 873, 871, 868, 866, 864, 861, 859, 857, 855, 853, 851, 849, 846, 843, 841, 839, 837, 834, 832, 829, 827, 825, 823, 821, 819, 816, 814, 812, 809, 806, 803, 801, 799, 797, 795, 793, 790, 788, 786, 784, 781, 778, 776, 774, 772, 770, 768, 766, 763, 760, 757, 755, 752, 750, 748, 745, 743, 741, 739, 737, 735, 733, 730, 728, 726, 723, 721, 719, 717, 715, 713, 710, 708, 706, 704, 702, 699, 697, 695, 692, 690, 688, 686, 684, 682, 679, 676, 673, 671, 669, 666, 664, 662, 660, 658, 656, 654, 652, 649, 647, 645, 643, 641, 639, 637, 634, 632, 630, 628, 625, 623, 621, 619, 617, 615, 613, 610, 608, 606, 604, 602, 600, 598, 596, 594, 592, 590, 588, 586, 584, 581, 579, 577, 575, 573, 571, 569, 566, 563, 560, 558, 556, 554, 552, 550, 548, 545, 543, 541, 539, 537, 534, 531, 529, 527, 525, 523, 521, 519, 517, 514, 512, 510, 508, 505, 503, 500, 498, 496, 494, 492, 490, 488, 485, 483, 481, 478, 476, 474, 472, 470, 468, 466, 464, 462, 460, 458, 456, 454, 451, 449, 447, 445, 443, 441, 439, 437, 435, 433, 431, 429, 427, 425, 422, 420, 417, 415, 413, 410, 408, 406, 404, 402, 399, 397, 395, 393, 391, 389, 387, 385, 383, 381, 379, 377, 375, 373, 371, 369, 367, 365, 363, 361, 359, 357, 355, 353, 351, 349, 347, 345, 343, 341, 339, 337, 335, 333, 331, 329, 327, 325, 323, 321, 318, 316, 314, 312, 310, 308, 306, 304, 302, 300, 298, 296, 294, 292, 289, 287, 285, 283, 281, 279, 277, 275, 273, 271, 269, 267, 265, 263, 261, 258, 256, 254, 252, 249, 247, 245, 243, 240, 238, 236, 234, 232, 230, 228, 226, 223, 221, 218, 216, 214, 211, 209, 207, 205, 203, 201, 199, 197, 195, 193, 190, 187, 185, 183, 181, 179, 177, 175, 173, 170, 168, 166, 164, 162, 160, 157, 155, 153, 151, 149, 147, 145, 143, 141, 139, 136, 133, 131, 128, 126, 124, 122, 120, 117, 115, 112, 110, 108, 106, 103, 100, 98, 96, 94, 92, 90, 88, 85, 83, 81, 79, 77, 75, 72, 69, 66, 64, 62, 60, 58, 56, 54, 52, 50, 48, 46, 44, 42, 40, 38, 36, 33, 31, 28, 26, 24, 22, 20, 18, 15, 13, 10, 8, 5, 3, 1]\n",
            "459\n"
          ],
          "name": "stdout"
        }
      ]
    },
    {
      "cell_type": "code",
      "metadata": {
        "id": "7Ce-leeIQ6kh",
        "colab_type": "code",
        "outputId": "d5a41e36-35af-448e-cc21-d09cef9dda5c",
        "colab": {
          "base_uri": "https://localhost:8080/",
          "height": 34
        }
      },
      "source": [
        "required_nodes = [1, 2, 3, 4, 17, 117, 517, 997]\n",
        "ans = list()\n",
        "for node in required_nodes:\n",
        "  if node in mwis_nodes:\n",
        "    ans.append('1')\n",
        "  else:\n",
        "    ans.append('0')\n",
        "print(''.join(ans))"
      ],
      "execution_count": 0,
      "outputs": [
        {
          "output_type": "stream",
          "text": [
            "10100110\n"
          ],
          "name": "stdout"
        }
      ]
    }
  ]
}