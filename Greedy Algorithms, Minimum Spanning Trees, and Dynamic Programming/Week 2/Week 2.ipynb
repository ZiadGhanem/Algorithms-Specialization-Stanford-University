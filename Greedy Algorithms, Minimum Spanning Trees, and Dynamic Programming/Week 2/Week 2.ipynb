{
  "nbformat": 4,
  "nbformat_minor": 0,
  "metadata": {
    "colab": {
      "name": "Algorithms Course 3 Week 2.ipynb",
      "provenance": []
    },
    "kernelspec": {
      "name": "python3",
      "display_name": "Python 3"
    },
    "accelerator": "GPU"
  },
  "cells": [
    {
      "cell_type": "code",
      "metadata": {
        "id": "tm5eKH77sLtH",
        "colab_type": "code",
        "outputId": "7ad132e8-d7dd-4d31-cdf6-d5d03a8d6206",
        "colab": {
          "base_uri": "https://localhost:8080/",
          "height": 71
        }
      },
      "source": [
        "%mkdir Algorithms\n",
        "%cd Algorithms\n",
        "%mkdir \"Course 3\"\n",
        "%cd \"Course 3\"\n",
        "%mkdir \"Week 2\"\n",
        "%cd \"Week 2\""
      ],
      "execution_count": 0,
      "outputs": [
        {
          "output_type": "stream",
          "text": [
            "/content/Algorithms\n",
            "/content/Algorithms/Course 3\n",
            "/content/Algorithms/Course 3/Week 2\n"
          ],
          "name": "stdout"
        }
      ]
    },
    {
      "cell_type": "code",
      "metadata": {
        "id": "kxgk-rE7sUsk",
        "colab_type": "code",
        "colab": {}
      },
      "source": [
        "# Files path\n",
        "CLUSTERING_PATH = \"/content/Algorithms/Course 3/Week 2/clustering1.txt\"\n",
        "CLUSTERING_BIG_PATH = \"/content/Algorithms/Course 3/Week 2/clustering_big.txt\""
      ],
      "execution_count": 0,
      "outputs": []
    },
    {
      "cell_type": "code",
      "metadata": {
        "id": "foyoxQMPuzYt",
        "colab_type": "code",
        "colab": {}
      },
      "source": [
        "edges_list = list()\n",
        "with open(CLUSTERING_PATH) as edges_file: \n",
        "  edges = edges_file.readlines()\n",
        "  number_nodes = int((edges[0].split())[0])\n",
        "  for edge in edges[1:]:\n",
        "    edges_list.append([int(item) for item in edge.split()])\n"
      ],
      "execution_count": 0,
      "outputs": []
    },
    {
      "cell_type": "code",
      "metadata": {
        "id": "0uehsAXT64b6",
        "colab_type": "code",
        "colab": {}
      },
      "source": [
        "class unionFind:\n",
        "\n",
        "  def __init__(self, number_nodes):\n",
        "    self._root = list(range(number_nodes))\n",
        "    self._rank = [0] * number_nodes\n",
        "    self.number_trees = number_nodes\n",
        "\n",
        "  def find(self, x):\n",
        "    if self._root[x] != x:\n",
        "      self._root[x] = self.find(self._root[x])\n",
        "    return self._root[x]\n",
        "\n",
        "  def count(self):\n",
        "    return self.number_trees\n",
        "\n",
        "  def union(self, x, y):\n",
        "    s1 = self.find(x)\n",
        "    s2 = self.find(y)\n",
        "\n",
        "    if s1 == s2:\n",
        "      return\n",
        "\n",
        "    self.number_trees -= 1\n",
        "\n",
        "    if self._rank[s1] == self._rank[s2]:\n",
        "      self._root[s2] = s1\n",
        "      self._rank[s1] += 1\n",
        "    elif self._rank[s1] > self._rank[s2]:\n",
        "      self._root[s2] = s1\n",
        "    else:\n",
        "      self._root[s1] = s2\n",
        "\n",
        "  def connected(self, x, y):\n",
        "    return self.find(x) == self.find(y)"
      ],
      "execution_count": 0,
      "outputs": []
    },
    {
      "cell_type": "code",
      "metadata": {
        "id": "2JNVMJFN_1bA",
        "colab_type": "code",
        "outputId": "585e2eed-90bc-46cf-cbc0-f6988fc6e48f",
        "colab": {
          "base_uri": "https://localhost:8080/",
          "height": 35
        }
      },
      "source": [
        "number_clusters = 4\n",
        "sorted_edges_list = sorted(edges_list, key = lambda x: x[2])\n",
        "union_find = unionFind(number_nodes)\n",
        "for edge in sorted_edges_list:\n",
        "  if not union_find.connected(edge[0] - 1, edge[1] - 1):\n",
        "    if union_find.count() > number_clusters:\n",
        "      union_find.union(edge[0] - 1, edge[1] - 1)\n",
        "    else:\n",
        "      print(edge[2])\n",
        "      break"
      ],
      "execution_count": 0,
      "outputs": [
        {
          "output_type": "stream",
          "text": [
            "106\n"
          ],
          "name": "stdout"
        }
      ]
    },
    {
      "cell_type": "code",
      "metadata": {
        "id": "4ZKkplDLMQ6g",
        "colab_type": "code",
        "colab": {}
      },
      "source": [
        "nodes_list = list()\n",
        "with open(CLUSTERING_BIG_PATH) as nodes_file: \n",
        "  nodes = nodes_file.readlines()\n",
        "  number_nodes = int((nodes[0].split())[0])\n",
        "  for node in nodes[1:]:\n",
        "    nodes_list.append([int(item) for item in node.split()])"
      ],
      "execution_count": 0,
      "outputs": []
    },
    {
      "cell_type": "code",
      "metadata": {
        "id": "E0jk_jtSevrt",
        "colab_type": "code",
        "colab": {}
      },
      "source": [
        "def calculate_hamming_distance(node1, node2):\n",
        "  cost = 0\n",
        "  for i in range(len(node1)):\n",
        "    if node1[i] != node2[i]:\n",
        "      cost +=1 \n",
        "  return cost"
      ],
      "execution_count": 0,
      "outputs": []
    },
    {
      "cell_type": "code",
      "metadata": {
        "id": "JQRc4TEMeiqy",
        "colab_type": "code",
        "colab": {}
      },
      "source": [
        "union_find = unionFind(number_nodes)\n",
        "for i in range(number_nodes):\n",
        "  for j in range(i + 1, number_nodes):\n",
        "    if not union_find.connected(i, j):\n",
        "      cost = calculate_hamming_distance(nodes_list[i], nodes_list[j])\n",
        "      if cost >= 3:\n",
        "        union_find.union(i, j)\n",
        "      else:\n",
        "        break\n",
        "  if cost < 3:\n",
        "      break\n"
      ],
      "execution_count": 0,
      "outputs": []
    },
    {
      "cell_type": "code",
      "metadata": {
        "id": "y8hyxheilMBf",
        "colab_type": "code",
        "outputId": "205fb1d5-719c-4a2d-cba4-a29aaf9f3be4",
        "colab": {
          "base_uri": "https://localhost:8080/",
          "height": 35
        }
      },
      "source": [
        "print(union_find.count())"
      ],
      "execution_count": 0,
      "outputs": [
        {
          "output_type": "stream",
          "text": [
            "199226\n"
          ],
          "name": "stdout"
        }
      ]
    }
  ]
}